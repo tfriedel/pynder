{
 "cells": [
  {
   "cell_type": "code",
   "execution_count": null,
   "metadata": {
    "collapsed": false
   },
   "outputs": [],
   "source": [
    "import pynder\n",
    "from datetime import timedelta, datetime\n",
    "import random\n",
    "from private import *\n",
    "\n",
    "def get_ping_time(user):\n",
    "    time_format = '%Y-%m-%dT%H:%M:%S'\n",
    "    return datetime.strptime(user.ping_time.split('.')[0], time_format)\n",
    "\n",
    "def get_active_users(matches):\n",
    "    active_matches = [m for m in matches if get_ping_time(m.user) > datetime.now() - timedelta(hours=1)]\n",
    "    return active_matches\n",
    "\n",
    "def get_user_named(matches, name):\n",
    "    filtered_matches = [m for m in matches if str(m) == \"u'{}'\".format(name)]\n",
    "    return filtered_matches[0]\n",
    "\n",
    "def like_all(session):\n",
    "    while session.likes_remaining > 0:\n",
    "        users = session.nearby_users()\n",
    "\n",
    "\n",
    "session = pynder.Session(facebook_id=facebook_id, facebook_token=facebook_token)\n",
    "matches = session.matches()\n"
   ]
  },
  {
   "cell_type": "markdown",
   "metadata": {},
   "source": [
    "### Show the last 40 matches"
   ]
  },
  {
   "cell_type": "code",
   "execution_count": null,
   "metadata": {
    "collapsed": false,
    "scrolled": false
   },
   "outputs": [],
   "source": [
    "from IPython.display import display\n",
    "from IPython.display import Image\n",
    "from IPython.core.display import HTML \n",
    "import random\n",
    "import time\n",
    "\n",
    "counter = 0\n",
    "short = matches[-40:]\n",
    "for match in short:    \n",
    "    user = match.user                \n",
    "    counter += 1\n",
    "    delta = datetime.now() - get_ping_time(user)\n",
    "    days_ago = delta.days\n",
    "    minutes = delta.seconds / 60\n",
    "    html = HTML(u\"<H1>{}</H1> #{} Age: {}, {}, {} km <br>{}<br>last active: {} days {} minutes\".format(user.name, counter, user.age, \" \".join(user.jobs),user.distance_km, \n",
    "                                                                                            user.bio, days_ago, minutes))\n",
    "    display(html)\n",
    "    \n",
    "    for photo in user.photos:\n",
    "        print(photo)\n",
    "        display(Image(url=photo))\n"
   ]
  }
 ],
 "metadata": {
  "kernelspec": {
   "display_name": "Python 2",
   "language": "python",
   "name": "python2"
  },
  "language_info": {
   "codemirror_mode": {
    "name": "ipython",
    "version": 2
   },
   "file_extension": ".py",
   "mimetype": "text/x-python",
   "name": "python",
   "nbconvert_exporter": "python",
   "pygments_lexer": "ipython2",
   "version": "2.7.6"
  }
 },
 "nbformat": 4,
 "nbformat_minor": 0
}
